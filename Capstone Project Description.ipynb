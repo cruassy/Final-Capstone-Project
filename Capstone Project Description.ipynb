{
 "cells": [
  {
   "cell_type": "markdown",
   "metadata": {},
   "source": [
    "# Do you want to open a new gym in Manhattan?\n",
    "# This post will help you to identify the best neighborhood where to start your new business\n",
    "\n",
    "## Introduction/Business Problem\n",
    "People are more and more interested in living health and actives lives and this is achieved not only by following a proper diet and conscious alimentary choices but also with regular trainings.\n",
    "Gyms play a fundamental roles in our lives, and we need to organize our days properly if we would get some workouts done since considering the usual working hours, the time we spend in traffic or public transportation, there is not so much time left in a day.\n",
    "Gyms are becoming more and more popular and an increasing number of customers spend an average of several hours per week training into gym facilities.\n",
    "\n",
    "In this exercise I am going to analyze how gyms are distributed in different Manhattan’s neighborhoods.\n",
    "The goal of this analysis is to help people who are interested in opening a new gym in Manhattan to identify the best location by providing information of what are the lowest served areas in terms of gym presence in conjunction with population density and neighborhood classification.\n",
    "Outcome will be a choropleth map showing the gym penetration index on each neighborhood and on top of that circle markers for each neighborhood clustered by different colors and labels. \n",
    "\n",
    "## Data\n",
    "As a first step I get the information of New York’s boroughs and neighborhoods with associated latitude and longitude, here is the link to the dataset: https://geo.nyu.edu/catalog/nyu_2451_34572 \n",
    "I restrict the information only for a single borough (Manhattan) and use Foursquare API to retrieve the number of gyms in each neighborhood.\n",
    "\n",
    "Then I get the population of each neighborhood from https://opendata.cityofnewyork.us/ and include this into the same dataset. Now I can calculate the measure will be used to create the choropleth, meaning the ratio between population size and number of gyms for each neighborhood; in other words, for each neighborhood we will know that there is a gym every “tot” number of people. \n",
    "\n",
    "We leave this analysis for the final outcome and now let’s proceed to cluster all neighborhoods in order to identify the similar ones.\n",
    "We use again Foursquare data to explore each Manhattan’s neighborhoods and retrieve the top 10 most frequent venues categories. With some data wrangling and transformations, we get the mean of each venue category for every neighborhood that will be used to fit our unsupervised k-cluster model.\n",
    "After the fit each neighborhood will be assigned to a specific cluster and by analyzing the similarity of the top 10 most frequent venues, we can come up with a description of each cluster that then identifies all neighborhoods belonging to it.\n",
    "\n",
    "Last piece of data I need is the perimetral area of the neighborhoods (geojson) that can be found also here https://opendata.cityofnewyork.us/\n",
    "\n",
    "Time to wrap all things together.\n",
    "First I create a choropleth map using geojson perimetral data joined with the ratio people / number of gyms for each neighborhood.\n",
    "This will show a map where each neighborhood is clearly separated from the others and it has a gradient color based on the gym penetration index (stronger the color higher the ration people / gyms).\n",
    "On the same map I will include the neighborhood’s centers with different colors based on the cluster they belong to.\n",
    "This combination of information enables to identify the low-served neighborhood in terms of gyms with the characteristics of the neighborhood itself (for example residential/touristic).\n",
    "With this map in your hands you can pick the best neighborhood that fits your wishes including an informed decision on the location can give you the best ROI.\n"
   ]
  },
  {
   "cell_type": "code",
   "execution_count": null,
   "metadata": {},
   "outputs": [],
   "source": []
  }
 ],
 "metadata": {
  "kernelspec": {
   "display_name": "Python",
   "language": "python",
   "name": "conda-env-python-py"
  },
  "language_info": {
   "codemirror_mode": {
    "name": "ipython",
    "version": 3
   },
   "file_extension": ".py",
   "mimetype": "text/x-python",
   "name": "python",
   "nbconvert_exporter": "python",
   "pygments_lexer": "ipython3",
   "version": "3.6.10"
  }
 },
 "nbformat": 4,
 "nbformat_minor": 4
}
